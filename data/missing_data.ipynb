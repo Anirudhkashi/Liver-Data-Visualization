{
 "cells": [
  {
   "cell_type": "code",
   "execution_count": 1,
   "metadata": {},
   "outputs": [
    {
     "name": "stderr",
     "output_type": "stream",
     "text": [
      "/usr/local/lib/python2.7/dist-packages/IPython/core/interactiveshell.py:2718: DtypeWarning: Columns (1,2,6,7,8,9,10,14,15,16,17,20,21,23,24,25,26,27,28,29,30,31,36,43,44,45,46,47,49,51,52,53,56,57,67,68,69,70,71,73,74,75,76,77,78,79,80,81,82,83,84,85,88,90,91,93,105,106,108,109,122,125,126,127,128,132,134,143,144,147,148,149,151,152,153,157,175,176,179,181,182,183,184,185,186,187,188,191,202,203,204,205,207,209,210,211,213,216,217,218,219,220,221,222,224,225,226,227,228,229,230,231,232,233,234,236,241,242,244,246,247,248,249,250,251,252,253,254,255,257,260,261,262,263,265,266,267,268,269,273,274,275,280,281,297,298,299,305,306,307,308,309,310,311,313,328,337,338,339,340,341,342,343,344,345,348,349,359,360,361,365,377,378,379,381,386,391,392,393) have mixed types. Specify dtype option on import or set low_memory=False.\n",
      "  interactivity=interactivity, compiler=compiler, result=result)\n",
      "/usr/local/lib/python2.7/dist-packages/IPython/core/interactiveshell.py:2718: DtypeWarning: Columns (10,12,13,14,17,19,20,22,23,24,25,26,27,28,29,30,31,32,35,36,37,39,40,41,42,43,45,47,49,50,51,54,55,57,58,59,60,61,62,63,64,65,66,67,70,72,73,74,75,77,78,79,81,82,84,85,86,87,88,89,90,92,93,94,95,96,97,98,99,100,102,103,105,106,107,109,110,111,136,137,139,140,141,142,143,144,146,154,156,162,164,165,167,168,169,170,175,176,177,178,179,180,181,182,183,184,185,186,187,189,190,191,192,193,194,195,196,197,198,199,200,201,202,203,204,205,206,207,208,209,210,211,212,213,214,215,216,217,218,219,220,221,222,223,224,225,226,227,228,229,230,231,232,233,234,235,236,237,238,239,240,243,244,246,247,252,253,268,272,274,278,292,296,328,332,351,352,355,356,357,362,365,366,367,371) have mixed types. Specify dtype option on import or set low_memory=False.\n",
      "  interactivity=interactivity, compiler=compiler, result=result)\n"
     ]
    }
   ],
   "source": [
    "import numpy as np\n",
    "import pandas as pd\n",
    "import sklearn\n",
    "import copy\n",
    "\n",
    "liver_data = pd.read_csv(\"../data/liver-data/LIVER_DATA.DAT\", sep=\"\\t\", encoding = \"Windows 1252\", names=[\"COD_WL\", \"COD_OSTXT_WL\", \"NUM_PREV_TX\", \"MELD_DIFF_REASON_CD\", \"GENDER\", \"ABO\", \"WGT_KG_TCR\", \"HGT_CM_TCR\", \"BMI_TCR\", \"CITIZEN_COUNTRY\", \"EDUCATION\", \"LIFE_SUP_TCR\", \"VENTILATOR_TCR\", \"OTH_LIFE_SUP_TCR\", \"OTH_LIFE_SUP_OSTXT_TCR\", \"FUNC_STAT_TCR\", \"PRI_PAYMENT_TCR\", \"DGN_TCR\", \"DGN_OSTXT_TCR\", \"DGN2_TCR\", \"DGN2_OSTXT_TCR\", \"DIAB\", \"MALIG_TCR\", \"HCC_DIAGNOSIS_TCR\", \"NEOADJUVANT_THERAPY_TCR\", \"INIT_STAT\", \"INIT_WGT_KG\", \"INIT_HGT_CM\", \"REM_CD\", \"DAYSWAIT_CHRON\", \"END_STAT\", \"INIT_AGE\", \"DEATH_DATE\", \"END_DATE\", \"INIT_DATE\", \"EXC_DIAG_ID\", \"EXC_OTHER_DIAG\", \"HCC_EVER_APPR\", \"EXC_HCC\", \"EXC_CASE\", \"ETHNICITY\", \"ETHCAT\", \"PT_CODE\", \"INIT_BMI_CALC\", \"END_BMI_CALC\", \"WLHR\", \"WLHL\", \"WLIN\", \"WLKI\", \"WLKP\", \"WLLI\", \"WLLU\", \"WLPA\", \"WLPI\", \"REGION\", \"PERM_STATE\", \"CITIZENSHIP\", \"WL_ID_CODE\", \"ARTIFICIAL_LI_TCR\", \"PREV_AB_SURG_TCR\", \"BACT_PERIT_TCR\", \"PORTAL_VEIN_TCR\", \"TIPSS_TCR\", \"YR_ENTRY_US_TCR\", \"WORK_INCOME_TCR\", \"ACADEMIC_PRG_TCR\", \"ACADEMIC_LEVEL_TCR\", \"PRI_PAYMENT_CTRY_TCR\", \"ENCEPH_TCR\", \"ASCITES_TCR\", \"MUSCLE_WAST_TCR\", \"INOTROPES\", \"VAD_TAH\", \"IABP\", \"PGE\", \"ECMO\", \"INIT_ALBUMIN\", \"INIT_ASCITES\", \"INIT_BILIRUBIN\", \"INIT_DIALYSIS_PRIOR_WEEK\", \"INIT_ENCEPH\", \"INIT_INR\", \"INIT_MELD_OR_PELD\", \"INIT_MELD_PELD_LAB_SCORE\", \"INIT_SERUM_CREAT\", \"INIT_SERUM_SODIUM\", \"INIT_CTP_SCORE\", \"FINAL_ALBUMIN\", \"FINAL_ASCITES\", \"FINAL_BILIRUBIN\", \"FINAL_DIALYSIS_PRIOR_WEEK\", \"FINAL_ENCEPH\", \"FINAL_INR\", \"FINAL_MELD_OR_PELD\", \"FINAL_MELD_PELD_LAB_SCORE\", \"FINAL_SERUM_CREAT\", \"FINAL_SERUM_SODIUM\", \"FINAL_CTP_SCORE\", \"TX_DATE\", \"TX_PROCEDUR_TY\", \"ACADEMIC_LEVEL_TRR\", \"ACADEMIC_PRG_TRR\", \"FUNC_STAT_TRR\", \"MED_COND_TRR\", \"PRI_PAYMENT_TRR\", \"PRI_PAYMENT_CTRY_TRR\", \"PERM_STATE_TRR\", \"WORK_INCOME_TRR\", \"MALIG_TRR\", \"MALIG_OSTXT_TRR\", \"MALIG_TY_TRR\", \"LIFE_SUP_TRR\", \"ON_VENT_TRR\", \"ARTIFICIAL_LI_TRR\", \"OTH_LIFE_SUP_TRR\", \"PORTAL_VEIN_TRR\", \"PREV_AB_SURG_TRR\", \"TIPSS_TRR\", \"ACUTE_REJ_EPI\", \"HBV_CORE\", \"HBV_SUR_ANTIGEN\", \"HCV_SEROSTATUS\", \"EBV_SEROSTATUS\", \"HIV_SEROSTATUS\", \"CMV_STATUS\", \"HBV_SURF_TOTAL\", \"HCC_DIAG\", \"CMV_IGG\", \"CMV_IGM\", \"COD\", \"COD_OSTXT\", \"COD2\", \"COD2_OSTXT\", \"COD3\", \"COD3_OSTXT\", \"GSTATUS\", \"GTIME\", \"PSTATUS\", \"PTIME\", \"PX_STAT\", \"FUNC_STAT_TRF\", \"PRVTXDIF\", \"RETXDATE\", \"TXHRT\", \"TXINT\", \"TXKID\", \"TXLIV\", \"TXLNG\", \"TXPAN\", \"CLSTR_OLD\", \"CLSTRTYP_OLD\", \"HBEAB_OLD\", \"HEPD_OLD\", \"MRCREATG_OLD\", \"PREV_PI_TX_TCR_ARCHIVE\", \"TOT_SERUM_ALBUM\", \"PREV_MALIG_TY\", \"PREV_MALIG_TY_OSTXT\", \"AMIS\", \"BMIS\", \"DRMIS\", \"HLAMIS\", \"DA1\", \"DA2\", \"DB1\", \"DB2\", \"DDR1\", \"DDR2\", \"RA1\", \"RA2\", \"RB1\", \"RB2\", \"RDR1\", \"RDR2\", \"PREV_TX\", \"TRTREJ6M\", \"TRTREJ1Y\", \"AGE_DON\", \"DDAVP_DON\", \"CMV_OLD_LIV_DON\", \"CMV_DON\", \"CMV_TEST_DON\", \"EBV_TEST_DON\", \"HBV_TEST_DON\", \"HCV_TEST_DON\", \"CMV_NUCLEIC_DON\", \"CMV_IGG_DON\", \"HEP_C_ANTI_DON\", \"HBV_CORE_DON\", \"HBV_SUR_ANTIGEN_DON\", \"CITIZENSHIP_DON\", \"CMV_IGM_DON\", \"COD_CAD_DON\", \"DEATH_CIRCUM_DON\", \"DEATH_MECH_DON\", \"ETHCAT_DON\", \"DON_TY\", \"GENDER_DON\", \"HOME_STATE_DON\", \"WARM_ISCH_TM_DON\", \"RECOVERY_DATE_DON\", \"DIABDUR_DON\", \"HCV_RIBA_DON\", \"HCV_ANTIBODY_DON\", \"HBV_DNA_DON\", \"HCV_RNA_DON\", \"LIV_DON_TY\", \"LIV_DON_TY_OSTXT\", \"COD_OSTXT_DON\", \"CORE_COOL_DON\", \"NON_HRT_DON\", \"ANTIHYPE_DON\", \"BLOOD_INF_DON\", \"BLOOD_INF_CONF_DON\", \"BUN_DON\", \"CREAT_DON\", \"DOBUT_DON_OLD\", \"DOPAMINE_DON_OLD\", \"HTLV1_OLD_DON\", \"HTLV2_OLD_DON\", \"OTH_DON_MED1_OSTXT_DON_OLD\", \"OTH_DON_MED2_OSTXT_DON_OLD\", \"OTH_DON_MED3_OSTXT_DON_OLD\", \"OTHER_INF_DON\", \"OTHER_INF_CONF_DON\", \"OTHER_INF_OSTXT_DON\", \"PRETREAT_MED_DON_OLD\", \"PT_DIURETICS_DON\", \"PT_OTH1_OSTXT_DON\", \"PT_OTH2_OSTXT_DON\", \"PT_OTH3_OSTXT_DON\", \"PT_OTH4_OSTXT_DON\", \"PT_STEROIDS_DON\", \"PT_T3_DON\", \"PT_T4_DON\", \"PULM_INF_DON\", \"PULM_INF_CONF_DON\", \"SGOT_DON\", \"SGPT_DON\", \"TBILI_DON\", \"URINE_INF_DON\", \"URINE_INF_CONF_DON\", \"VASODIL_DON\", \"VDRL_DON\", \"CLIN_INFECT_DON\", \"CANCER_FREE_INT_DON\", \"CANCER_OTH_OSTXT_DON\", \"CONTIN_ALCOHOL_OLD_DON\", \"CONTIN_CIG_DON\", \"CONTIN_COCAINE_DON\", \"CONTIN_IV_DRUG_OLD_DON\", \"CONTIN_OTH_DRUG_DON\", \"DIET_DON\", \"DIURETICS_DON\", \"EXTRACRANIAL_CANCER_DON\", \"HIST_ALCOHOL_OLD_DON\", \"CANCER_SITE_DON\", \"HIST_CIG_DON\", \"HIST_COCAINE_DON\", \"HIST_DIABETES_DON\", \"DIABETES_DON\", \"HIST_HYPERTENS_DON\", \"HIST_IV_DRUG_OLD_DON\", \"HIST_OTH_DRUG_DON\", \"ABO_DON\", \"INTRACRANIAL_CANCER_DON\", \"OTHER_HYPERTENS_MED_DON\", \"SKIN_CANCER_DON\", \"HIST_CANCER_DON\", \"HIST_INSULIN_DEP_DON\", \"HYPERTENS_DUR_DON\", \"INSULIN_DEP_DON\", \"PT_OTH_DON\", \"HEPARIN_DON\", \"ARGININE_DON\", \"INSULIN_DON\", \"HGT_CM_DON_CALC\", \"WGT_KG_DON_CALC\", \"BMI_DON_CALC\", \"ECD_DONOR\", \"ENCEPH_TRR_OLD\", \"ASCITES_TRR_OLD\", \"CREAT_TX\", \"TBILI_TX\", \"INR_TX\", \"ALBUMIN_TX\", \"DIAL_TX\", \"ENCEPH_TX\", \"ASCITES_TX\", \"MELD_PELD_LAB_SCORE\", \"EVER_APPROVED\", \"EXC_EVER\", \"PX_STAT_DATE\", \"GRF_FAIL_DATE\", \"PREV_TX_DATE\", \"DISCHARGE_DATE\", \"LITYP\", \"PRI_GRF_FAIL\", \"VASC_THROMB\", \"BILIARY\", \"HEP_DENOVO\", \"HEP_RECUR\", \"RECUR_DISEASE\", \"REJ_ACUTE\", \"INFECT\", \"GRF_FAIL_CAUSE_OSTXT\", \"DIFFUSE_CHOLANG\", \"HEPATIC_ART_THROM\", \"OTHER_VASC_THROMB\", \"HEPATIC_OUT_OBS\", \"PORTAL_VEIN_THROM\", \"PRI_NON_FUNC\", \"REJ_CHRONIC\", \"PX_NON_COMPL\", \"GRF_STAT\", \"LOS\", \"AGE\", \"DIAG\", \"DIAG_OSTXT\", \"ABO_MAT\", \"DISTANCE\", \"COLD_ISCH\", \"COMPOSITE_DEATH_DATE\", \"MULTIORG\", \"SHARE_TY\", \"AGE_GROUP\", \"MALIG_TYPE\", \"MALIG\", \"MALIG_TY_OSTXT\", \"HGT_CM_CALC\", \"WGT_KG_CALC\", \"BMI_CALC\", \"ADMISSION_DATE\", \"DIS_SGOT\", \"DIS_ALKPHOS\", \"EDUCATION_DON\", \"PRI_PAYMENT_DON\", \"PRI_PAYMENT_CTRY_DON\", \"MEDICARE_DON\", \"MEDICAID_DON\", \"OTH_GOVT_DON\", \"PRIV_INS_DON\", \"HMO_PPO_DON\", \"SELF_DON\", \"DONATION_DON\", \"FREE_DON\", \"TRR_ID_CODE\", \"RECOV_OUT_US\", \"RECOV_COUNTRY\", \"CONTROLLED_DON\", \"TATTOOS\", \"LI_BIOPSY\", \"PROTEIN_URINE\", \"CARDARREST_NEURO\", \"RESUSCIT_DUR\", \"INOTROP_SUPPORT_DON\", \"REFERRAL_DATE\", \"ADMIT_DATE_DON\", \"DONOR_ID\", \"HBSAB_DON\", \"EBV_IGG_CAD_DON\", \"EBV_IGM_CAD_DON\", \"TRANSFUS_TERM_DON\", \"TRANSFUS_INTRAOP_NUM_OLD_DON\", \"TRANSFUS_PRIOR_NUM_OLD_DON\", \"CDC_RISK_HIV_DON\", \"MACRO_FAT_LI_DON\", \"MICRO_FAT_LI_DON\", \"HISTORY_MI_DON\", \"LV_EJECT_DON\", \"LV_EJECT_METH_DON\", \"VESSELS_NUM_STEN_DON\", \"PH_DON\", \"HEMATOCRIT_DON\", \"INO_PROCURE_AGENT_1\", \"INO_PROCURE_AGENT_2\", \"INO_PROCURE_AGENT_3\", \"INO_PROCURE_OSTXT_1\", \"INO_PROCURE_OSTXT_2\", \"INO_PROCURE_OSTXT_3\", \"CORONARY_ANGIO_DON\", \"CORONARY_ANGIO_NORM_DON\", \"TX_YEAR\", \"LIST_MELD\", \"TX_MELD\", \"LT_ONE_WEEK_DON\", \"LISTYR\", \"DATA_TRANSPLANT\", \"DATA_WAITLIST\", \"CTR_CODE\", \"OPO_CTR_CODE\", \"INIT_OPO_CTR_CODE\", \"END_OPO_CTR_CODE\", \"LISTING_CTR_CODE\"])\n",
    "deceased_donor_data = pd.read_csv(\"../data/liver-data/DECEASED_DONOR_DATA.DAT\", sep=\"\\t\", encoding = \"Windows 1252\", names=[\"DA1\",\"DA2\",\"ABO_DON\",\"DB1\",\"DB2\",\"GENDER_DON\",\"HOME_CITY_DON\",\"HOME_STATE_DON\",\"RECOVERY_DATE_DON\",\"WARM_ISCH_TM_DON\",\"RECOV_COUNTRY_DON\",\"RECOV_OUT_US_DON\",\"HBSAB_DON\",\"EBV_IGG_CAD_DON\",\"EBV_IGM_CAD_DON\",\"LT_KI_GLOMERUL_COUNT\",\"RT_KI_GLOMERUL_COUNT\",\"HBV_CORE_DON\",\"HBV_SUR_ANTIGEN_DON\",\"CITIZENSHIP_DON\",\"COD_CAD_DON\",\"COD_OSTXT_DON\",\"CONSENT_ATTORNEY\",\"CONSENT_DOC_MECH_OSTXT\",\"CONSENT_DON_CARD\",\"CONSENT_DON_REGIS\",\"CONSENT_DRIVE_LIC\",\"CONSENT_PX_WRIT_DOC\",\"CONTROLLED_DON\",\"CORE_COOL_DON\",\"DEATH_CIRCUM_DON\",\"DEATH_MECH_DON\",\"NON_HRT_DON\",\"REFERRAL_DATE\",\"CONSENT_WRIT_DOC_INTENT_DON\",\"LEGALLY_BRAIN_DEAD\",\"CONSENT_ADVANCED_DIR\",\"CITIZEN_COUNTRY_DON\",\"AMYLASE_DON\",\"HEP_C_ANTI_DON\",\"ANTIHYPE_DON\",\"BLOOD_INF_DON\",\"BLOOD_INF_CONF_DON\",\"BUN_DON\",\"CARDARREST_POSTNEURO_DON\",\"CLIN_INFECT_DON\",\"CMV_DON\",\"CREAT_DON\",\"DDAVP_DON\",\"EBNA_DON\",\"HTLV_DON\",\"INOTROP_AGENTS_DON\",\"LIPASE_DON\",\"OTHER_INF_DON\",\"OTHER_INF_CONF_DON\",\"OTHER_INF_OSTXT_DON\",\"PROTEIN_URINE_DON\",\"PT_DIURETICS_DON\",\"PT_OTH1_OSTXT_DON\",\"PT_OTH2_OSTXT_DON\",\"PT_OTH3_OSTXT_DON\",\"PT_OTH4_OSTXT_DON\",\"HEPARIN_DON\",\"PT_STEROIDS_DON\",\"PT_T3_DON\",\"PT_T4_DON\",\"PULM_INF_DON\",\"PULM_INF_CONF_DON\",\"RESUSCIT_DUR_DON\",\"SGOT_DON\",\"SGPT_DON\",\"TBILI_DON\",\"TRANSFUS_TERM_DON\",\"URINE_INF_DON\",\"URINE_INF_CONF_DON\",\"VASODIL_DON\",\"VDRL_DON\",\"SODIUM170_VAL_DON\",\"ARGININE_DON\",\"INSULIN_DON\",\"INOTROP_SUPPORT_DON\",\"CHAGAS_NAT\",\"CHAGAS_SEROLOGY\",\"HBA1C\",\"HBV_DNA\",\"HCV_NAT\",\"HTLV_NAT\",\"WEST_NILE_NAT\",\"WEST_NILE_SEROLOGY\",\"HTLV1_OLD_DON\",\"HTLV2_OLD_DON\",\"CANCER_FREE_INT_DON\",\"CANCER_OTH_OSTXT_DON\",\"ALCOHOL_HEAVY_DON\",\"CONTIN_CIG_DON\",\"CONTIN_COCAINE_DON\",\"CONTIN_OTH_DRUG_DON\",\"DIET_DON\",\"DIURETICS_DON\",\"EXTRACRANIAL_CANCER_DON\",\"HIST_CIG_DON\",\"HIST_COCAINE_DON\",\"HIST_DIABETES_DON\",\"HIST_OTH_DRUG_DON\",\"INSULIN_DEP_DON\",\"INTRACRANIAL_CANCER_DON\",\"OTHER_HYPERTENS_MED_DON\",\"SKIN_CANCER_DON\",\"TATTOOS_DON\",\"CDC_RISK_HIV_DON\",\"CHAGUS_HISTORY\",\"TB_HISTORY\",\"CARDIAC_OUTPUT_CATH_INIT_DON\",\"CARDIAC_OUTPUT_CATH_POST_DON\",\"CVP_CATH_INIT_DON\",\"CVP_CATH_POST_DON\",\"MACRO_FAT_LI_DON\",\"MICRO_FAT_LI_DON\",\"HISTORY_MI_DON\",\"LI_BIOPSY_DON\",\"LT_KI_BIOPSY_DON\",\"LT_KI_GLOMERUL_DON\",\"KIL_PUMP\",\"LV_EJECT_DON\",\"LV_EJECT_METH_DON\",\"DIAST_PA_CATH_INIT_DON\",\"DIAST_PA_CATH_POST_DON\",\"SYST_PA_CATH_INIT_DON\",\"SYST_PA_CATH_POST_DON\",\"PCWP_INIT_DON\",\"PCWP_POST_DON\",\"PO2_DON\",\"RT_KI_BIOPSY_DON\",\"RT_KI_GLOMERUL_DON\",\"KIR_PUMP\",\"VESSELS_NUM_STEN_DON\",\"WALL_ABN_SEG_DON\",\"WALL_ABN_GLOB_DON\",\"PULM_CATH_DON\",\"PH_DON\",\"HEMATOCRIT_DON\",\"ABN_VALVES_DON\",\"ABN_CONGEN_DON\",\"ABN_LVH_DON\",\"PO2_DONE_DON\",\"PO2_FIO2_DON\",\"PCO2_DON\",\"MAP_INIT_DON\",\"MAP_POST_DON\",\"SVR_INIT_DON\",\"SVR_POST_DON\",\"CARD_IDX_INIT_DON\",\"CARD_IDX_POST_DON\",\"LT_KI_BIOPSY_TY\",\"LT_KI_BIOPSY_TY_OSTXT\",\"RT_KI_BIOPSY_TY\",\"RT_KI_BIOPSY_TY_OSTXT\",\"LT_KI_INTERSTITIAL_FIBROSIS\",\"RT_KI_INTERSTITIAL_FIBROSIS\",\"LT_KI_VASCULAR_CHANGES\",\"RT_KI_VASCULAR_CHANGES\",\"LT_KI_PUMP_TY\",\"LT_KI_PUMP_TY_OSTXT\",\"RT_KI_PUMP_TY\",\"RT_KI_PUMP_TY_OSTXT\",\"LI_MACHINE_PERFUSION\",\"LI_MACHINE_PERFUSION_TY\",\"LI_MACHINE_PERFUSION_TY_OSTXT\",\"LT_LUNG_MACHINE_PERFUSION\",\"RT_LUNG_MACHINE_PERFUSION\",\"HEART_PERFUSION\",\"CVP_CATH_OLD_DON\",\"DIASTOLIC_PA_CATH_OLD_DON\",\"SYSTOLIC_PA_CATH_OLD_DON\",\"CARDIAC_OUTPUT_CATH_OLD_DON\",\"LUB_DISCARD_CD_OSTXT\",\"KIB_DISCARD_CD_OSTXT\",\"HR_DISCARD_CD_OSTXT\",\"IN_DISCARD_CD_OSTXT\",\"INS1_DISCARD_CD_OSTXT\",\"INS2_DISCARD_CD_OSTXT\",\"LI_DISCARD_CD_OSTXT\",\"LIS1_DISCARD_CD_OSTXT\",\"LIS2_DISCARD_CD_OSTXT\",\"KIL_DISCARD_CD_OSTXT\",\"LUL_DISCARD_CD_OSTXT\",\"LUR_DISCARD_CD_OSTXT\",\"PA_DISCARD_CD_OSTXT\",\"PAS1_DISCARD_CD_OSTXT\",\"PAS2_DISCARD_CD_OSTXT\",\"KIR_DISCARD_CD_OSTXT\",\"LUB_INITIAL_FLUSH_OSTXT\",\"KIB_INITIAL_FLUSH_OSTXT\",\"HR_INITIAL_FLUSH_OSTXT\",\"IN_INITIAL_FLUSH_OSTXT\",\"INS1_INITIAL_FLUSH_OSTXT\",\"INS2_INITIAL_FLUSH_OSTXT\",\"LI_INITIAL_FLUSH_OSTXT\",\"LIS1_INITIAL_FLUSH_OSTXT\",\"LIS2_INITIAL_FLUSH_OSTXT\",\"KIL_INITIAL_FLUSH_OSTXT\",\"LUL_INITIAL_FLUSH_OSTXT\",\"LUR_INITIAL_FLUSH_OSTXT\",\"PA_INITIAL_FLUSH_OSTXT\",\"PAS1_INITIAL_FLUSH_OSTXT\",\"PAS2_INITIAL_FLUSH_OSTXT\",\"KIR_INITIAL_FLUSH_OSTXT\",\"LUB_FINAL_FLUSH_OSTXT\",\"KIB_FINAL_FLUSH_OSTXT\",\"HR_FINAL_FLUSH_OSTXT\",\"IN_FINAL_FLUSH_OSTXT\",\"INS1_FINAL_FLUSH_OSTXT\",\"INS2_FINAL_FLUSH_OSTXT\",\"LI_FINAL_FLUSH_OSTXT\",\"LIS1_FINAL_FLUSH_OSTXT\",\"LIS2_FINAL_FLUSH_OSTXT\",\"KIL_FINAL_FLUSH_OSTXT\",\"LUL_FINAL_FLUSH_OSTXT\",\"LUR_FINAL_FLUSH_OSTXT\",\"PA_FINAL_FLUSH_OSTXT\",\"PAS1_FINAL_FLUSH_OSTXT\",\"PAS2_FINAL_FLUSH_OSTXT\",\"KIR_FINAL_FLUSH_OSTXT\",\"LUB_BACK_TBL_FLUSH_OSTXT\",\"KIB_BACK_TBL_FLUSH_OSTXT\",\"HR_BACK_TBL_FLUSH_OSTXT\",\"IN_BACK_TBL_FLUSH_OSTXT\",\"INS1_BACK_TBL_FLUSH_OSTXT\",\"INS2_BACK_TBL_FLUSH_OSTXT\",\"LI_BACK_TBL_FLUSH_OSTXT\",\"LIS1_BACK_TBL_FLUSH_OSTXT\",\"LIS2_BACK_TBL_FLUSH_OSTXT\",\"KIL_BACK_TBL_FLUSH_OSTXT\",\"LUL_BACK_TBL_FLUSH_OSTXT\",\"LUR_BACK_TBL_FLUSH_OSTXT\",\"PA_BACK_TBL_FLUSH_OSTXT\",\"PAS1_BACK_TBL_FLUSH_OSTXT\",\"PAS2_BACK_TBL_FLUSH_OSTXT\",\"KIR_BACK_TBL_FLUSH_OSTXT\",\"LUB_REASON_OSTXT\",\"KIB_REASON_OSTXT\",\"HR_REASON_OSTXT\",\"IN_REASON_OSTXT\",\"INS1_REASON_OSTXT\",\"INS2_REASON_OSTXT\",\"LI_REASON_OSTXT\",\"LIS1_REASON_OSTXT\",\"LIS2_REASON_OSTXT\",\"KIL_REASON_OSTXT\",\"LUL_REASON_OSTXT\",\"LUR_REASON_OSTXT\",\"PA_REASON_OSTXT\",\"PAS1_REASON_OSTXT\",\"PAS2_REASON_OSTXT\",\"KIR_REASON_OSTXT\",\"LUB_DISCARD_CD\",\"LUB_DISPOSITION\",\"LUB_INITIAL_FLUSH\",\"LUB_FINAL_FLUSH\",\"LUB_BACK_TBL_FLUSH\",\"LUB_REASON_CD\",\"KIB_DISCARD_CD\",\"KIB_DISPOSITION\",\"KIB_INITIAL_FLUSH\",\"KIB_FINAL_FLUSH\",\"KIB_BACK_TBL_FLUSH\",\"KIB_REASON_CD\",\"HR_DISCARD_CD\",\"HR_DISPOSITION\",\"HR_INITIAL_FLUSH\",\"HR_FINAL_FLUSH\",\"HR_BACK_TBL_FLUSH\",\"HR_REASON_CD\",\"IN_DISCARD_CD\",\"IN_DISPOSITION\",\"IN_INITIAL_FLUSH\",\"IN_FINAL_FLUSH\",\"IN_BACK_TBL_FLUSH\",\"IN_REASON_CD\",\"INS1_DISCARD_CD\",\"INS1_DISPOSITION\",\"INS1_INITIAL_FLUSH\",\"INS1_FINAL_FLUSH\",\"INS1_BACK_TBL_FLUSH\",\"INS1_REASON_CD\",\"INS2_DISCARD_CD\",\"INS2_DISPOSITION\",\"INS2_INITIAL_FLUSH\",\"INS2_FINAL_FLUSH\",\"INS2_BACK_TBL_FLUSH\",\"INS2_REASON_CD\",\"LI_DISCARD_CD\",\"LI_DISPOSITION\",\"LI_INITIAL_FLUSH\",\"LI_FINAL_FLUSH\",\"LI_BACK_TBL_FLUSH\",\"LI_REASON_CD\",\"LIS1_DISCARD_CD\",\"LIS1_DISPOSITION\",\"LIS1_INITIAL_FLUSH\",\"LIS1_FINAL_FLUSH\",\"LIS1_BACK_TBL_FLUSH\",\"LIS1_REASON_CD\",\"LIS2_DISCARD_CD\",\"LIS2_DISPOSITION\",\"LIS2_INITIAL_FLUSH\",\"LIS2_FINAL_FLUSH\",\"LIS2_BACK_TBL_FLUSH\",\"LIS2_REASON_CD\",\"KIL_DISCARD_CD\",\"KIL_DISPOSITION\",\"KIL_INITIAL_FLUSH\",\"KIL_FINAL_FLUSH\",\"KIL_BACK_TBL_FLUSH\",\"KIL_REASON_CD\",\"LUL_DISCARD_CD\",\"LUL_DISPOSITION\",\"LUL_INITIAL_FLUSH\",\"LUL_FINAL_FLUSH\",\"LUL_BACK_TBL_FLUSH\",\"LUL_REASON_CD\",\"LUR_DISCARD_CD\",\"LUR_DISPOSITION\",\"LUR_INITIAL_FLUSH\",\"LUR_FINAL_FLUSH\",\"LUR_BACK_TBL_FLUSH\",\"LUR_REASON_CD\",\"PA_DISCARD_CD\",\"PA_DISPOSITION\",\"PA_INITIAL_FLUSH\",\"PA_FINAL_FLUSH\",\"PA_BACK_TBL_FLUSH\",\"PA_REASON_CD\",\"PAS1_DISCARD_CD\",\"PAS1_DISPOSITION\",\"PAS1_INITIAL_FLUSH\",\"PAS1_FINAL_FLUSH\",\"PAS1_BACK_TBL_FLUSH\",\"PAS1_REASON_CD\",\"PAS2_DISCARD_CD\",\"PAS2_DISPOSITION\",\"PAS2_INITIAL_FLUSH\",\"PAS2_FINAL_FLUSH\",\"PAS2_BACK_TBL_FLUSH\",\"PAS2_REASON_CD\",\"KIR_DISCARD_CD\",\"KIR_DISPOSITION\",\"KIR_INITIAL_FLUSH\",\"KIR_FINAL_FLUSH\",\"KIR_BACK_TBL_FLUSH\",\"KIR_REASON_CD\",\"HIST_CANCER_DON\",\"HIST_HYPERTENS_DON\",\"HYPERTENS_DUR_DON\",\"DON_DATE\",\"AGE_DON\",\"MED_EXAM_REPORT\",\"MED_EXAM_PERM\",\"CORONARY_ANGIO_DON\",\"KIB_PUMP\",\"ETHNICITY_DON\",\"ETHCAT_DON\",\"ECD_DONOR\",\"NUM_ORG_TX\",\"NUM_ORG_RECOV\",\"HGT_CM_DON_CALC\",\"WGT_KG_DON_CALC\",\"BMI_DON_CALC\",\"KDRI_RAO\",\"KDRI_MED\",\"KDPI\",\"REGION\",\"NUM_KI_RECOV\",\"NUM_LU_RECOV\",\"NUM_HR_RECOV\",\"NUM_KI_TX\",\"NUM_LU_TX\",\"NUM_HR_TX\",\"NUM_KI_DISC\",\"NUM_LU_DISC\",\"NUM_HR_DISC\",\"NUM_LI_RECOV\",\"NUM_LI_TX\",\"NUM_LI_DISC\",\"NUM_IN_RECOV\",\"NUM_IN_TX\",\"NUM_IN_DISC\",\"NUM_PA_RECOV\",\"NUM_PA_TX\",\"NUM_PA_DISC\",\"NUM_ORG_DISC\",\"LT_ONE_WEEK_DON\",\"DONOR_ID\",\"ADMIT_DATE_DON\",\"OPO_CTR_CODE\"])"
   ]
  },
  {
   "cell_type": "code",
   "execution_count": 2,
   "metadata": {},
   "outputs": [],
   "source": [
    "liver_data[\"DONOR_ID\"] = pd.to_numeric(liver_data[\"DONOR_ID\"], errors='coerce')\n",
    "liver_data=liver_data[pd.notnull(liver_data[\"DONOR_ID\"])]\n",
    "i1 = liver_data.set_index(\"DONOR_ID\").index\n",
    "i2 = deceased_donor_data.set_index(\"DONOR_ID\").index\n",
    "liver_data = liver_data[i1.isin(i2)]\n",
    "i1 = liver_data.set_index(\"DONOR_ID\").index"
   ]
  },
  {
   "cell_type": "code",
   "execution_count": 3,
   "metadata": {},
   "outputs": [],
   "source": [
    "xls = pd.ExcelFile(\"../data/liver-data/STAR File Documentation Liver Data.xls\")\n",
    "liver_data_format= xls.parse(\"LIVER_FORMATS_FLATFILE\", skiprows=0, header=1, usecols=[0,1,2,3])\n",
    "liver_schema = xls.parse(\"LIVER DATA\", skiprows=0, header=1)"
   ]
  },
  {
   "cell_type": "code",
   "execution_count": 4,
   "metadata": {},
   "outputs": [],
   "source": [
    "liver_data = liver_data[(liver_data[\"INIT_MELD_OR_PELD\"]==\"MELD\") & (liver_data[\"FINAL_MELD_OR_PELD\"]==\"MELD\") & liver_data[\"GTIME\"].notnull() & liver_data[\"GSTATUS\"].notnull()]\n",
    "liver_data = liver_data[liver_data[\"MULTIORG\"] != \"Y\"]"
   ]
  },
  {
   "cell_type": "code",
   "execution_count": 5,
   "metadata": {},
   "outputs": [],
   "source": [
    "tmp = copy.deepcopy(liver_data)\n",
    "tmp.replace(to_replace=[\"\", \".\", np.nan], value=\"DATA_MISSING\", inplace=True)"
   ]
  },
  {
   "cell_type": "code",
   "execution_count": 6,
   "metadata": {},
   "outputs": [],
   "source": [
    "#Convert invalid values to \"NaN\"\n",
    "#from collections import defaultdict\n",
    "import math\n",
    "\n",
    "#Group format file rows by SAS ANALYSIS FORMAT\n",
    "sasAnalysisFormatGroups = liver_data_format.groupby(\"SAS ANALYSIS FORMAT\")\n",
    "#set dictionary mapping fields to their acceptable ranges\n",
    "fieldValidRange = {}\n",
    "for idx, row in liver_schema[liver_schema[\"SAS ANALYSIS FORMAT\"].notnull()].iterrows():\n",
    "    name = row[\"VARIABLE NAME\"].strip()\n",
    "    sasAnalysisFormat = row[\"SAS ANALYSIS FORMAT\"].strip().strip(\".\")\n",
    "    if sasAnalysisFormat in sasAnalysisFormatGroups.groups:\n",
    "        fieldValidRange[name] = set([str(x) for x in sasAnalysisFormatGroups.get_group(sasAnalysisFormat)[\"Data Field Value\"]])\n",
    "numOfInvalidsPerCol = {}\n",
    "for col in fieldValidRange:\n",
    "    #mismatchTypes = defaultdict(int)\n",
    "    numOfMismatches = 0\n",
    "    for idx, val in tmp[col].iteritems():\n",
    "        if isinstance(val, float) and not math.isnan(val) and math.floor(val) == val:\n",
    "            val = str(int(val))\n",
    "        else:\n",
    "            val = str(val)\n",
    "        if val not in fieldValidRange[col] and val != \"DATA_MISSING\":\n",
    "            #mismatchTypes[val] += 1\n",
    "            numOfMismatches += 1\n",
    "            tmp.at[idx, col] = \"DATA_INVALID\"\n",
    "    if numOfMismatches > 0:    \n",
    "        numOfInvalidsPerCol[col] = numOfMismatches"
   ]
  },
  {
   "cell_type": "code",
   "execution_count": 7,
   "metadata": {},
   "outputs": [
    {
     "name": "stderr",
     "output_type": "stream",
     "text": [
      "/usr/local/lib/python2.7/dist-packages/pandas/core/ops.py:816: FutureWarning: elementwise comparison failed; returning scalar instead, but in the future will perform elementwise comparison\n",
      "  result = getattr(x, name)(y)\n"
     ]
    }
   ],
   "source": [
    "fp = open(\"../data/missing_data.csv\", \"w\")\n",
    "fp.write(\"Feature,Missing\\n\")\n",
    "for c in tmp.columns:\n",
    "    try:\n",
    "        i = tmp.loc[tmp[c] == \"DATA_MISSING\", :].shape[0] * 100.0 /  tmp.shape[0]\n",
    "        fp.write(c+\",\"+str(i)+\"\\n\")\n",
    "    except:\n",
    "        pass\n",
    "fp.close()"
   ]
  },
  {
   "cell_type": "code",
   "execution_count": 8,
   "metadata": {},
   "outputs": [],
   "source": [
    "fp = open(\"../data/invalid_data.csv\", \"w\")\n",
    "fp.write(\"Feature,Invalid\\n\")\n",
    "for c in tmp.columns:\n",
    "    try:\n",
    "        i = tmp.loc[tmp[c] == \"DATA_INVALID\", :].shape[0] * 100.0 /  tmp.shape[0] \n",
    "        fp.write(c+\",\"+str(i)+\"\\n\")\n",
    "    except:\n",
    "        pass\n",
    "fp.close()"
   ]
  },
  {
   "cell_type": "code",
   "execution_count": null,
   "metadata": {},
   "outputs": [],
   "source": []
  }
 ],
 "metadata": {
  "kernelspec": {
   "display_name": "Python 2",
   "language": "python",
   "name": "python2"
  },
  "language_info": {
   "codemirror_mode": {
    "name": "ipython",
    "version": 2
   },
   "file_extension": ".py",
   "mimetype": "text/x-python",
   "name": "python",
   "nbconvert_exporter": "python",
   "pygments_lexer": "ipython2",
   "version": "2.7.12"
  }
 },
 "nbformat": 4,
 "nbformat_minor": 2
}
